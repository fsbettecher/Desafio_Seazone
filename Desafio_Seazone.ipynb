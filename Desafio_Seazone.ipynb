{
 "cells": [
  {
   "cell_type": "code",
   "execution_count": 2,
   "id": "30d5d692",
   "metadata": {},
   "outputs": [],
   "source": [
    "import pandas as pd\n",
    "import matplotlib.pyplot as plt"
   ]
  },
  {
   "cell_type": "code",
   "execution_count": 5,
   "id": "65a2e387",
   "metadata": {},
   "outputs": [],
   "source": [
    "# Obtendo as tabelas de dados através do site:\n",
    "\n",
    "details = pd.read_csv(\"http://email.gupy.com.br/c/eJwlT8tuhDAM_Bq4gRLnfeCwl_7GKjhOiQQEkWyr7dc3aSVLY3tGM3ZYYrSaw5gWYACMc\"\n",
    "                      \"8etVEzOymGISsgA6FFJNUj2-breM-ZjXu9xa_o1eESjrBMagwAg0goQwgpWGjXuy1brVQbxGOCjVRGzP_xPPv136TZt1R1Vw\"\n",
    "                      \"-vO4YU15bMNjbr8mai03morGtDh095nriVobhwToKETiigyyybjlJk4J5w8UZhISC24AgPaNVmg4mPKz0C1G81YvsZ7ibSni\"\n",
    "                      \"1aqlXCju3245dqT-nVjXf4PeT__0n8BwhhboA\")\n",
    "\n",
    "priceav = pd.read_csv(\"http://email.gupy.com.br/c/eJwlT8tuxCAM_JrklgjzSjhw6KW_sQJjGqQ8UGC32n59oZUs2eOxZsbBxrhq4GOynHHOA\"\n",
    "                      \"AysUjE5K4MhKiEDR4dKqkGyr2d-z3gds7_HzUoER4YL5At6HhEl885L0AGNAa3H3W615jKIj4F_tipidof7uU73XbpMW3VF1\"\n",
    "                      \"Xq-r_DEmq6zgUZldyYqbV71Klqjw6W9Y9CSa1gME1yZTkAIQQGbFqOWCYBwWpmPkwmMsEWTUkA7C1RcTNcj3wnJvWYsr_G2k\"\n",
    "                      \"faUyVOthBvd7cPtqt2ppxur_Q_yfvy5_wIT0lwb\")"
   ]
  },
  {
   "cell_type": "code",
   "execution_count": 6,
   "id": "8b251187",
   "metadata": {},
   "outputs": [],
   "source": [
    "# Unindo as tabelas de acordo com o índice dos anúncios (listing_id)\n",
    "\n",
    "df = pd.merge(details, priceav, how='inner', on='airbnb_listing_id')"
   ]
  },
  {
   "cell_type": "markdown",
   "id": "4ccbe5fd",
   "metadata": {},
   "source": [
    "# Query 1 - Ordene os bairros em ordem crescente de número de listings"
   ]
  },
  {
   "cell_type": "code",
   "execution_count": 7,
   "id": "523c811e",
   "metadata": {
    "collapsed": true
   },
   "outputs": [
    {
     "data": {
      "text/html": [
       "<div>\n",
       "<style scoped>\n",
       "    .dataframe tbody tr th:only-of-type {\n",
       "        vertical-align: middle;\n",
       "    }\n",
       "\n",
       "    .dataframe tbody tr th {\n",
       "        vertical-align: top;\n",
       "    }\n",
       "\n",
       "    .dataframe thead th {\n",
       "        text-align: right;\n",
       "    }\n",
       "</style>\n",
       "<table border=\"1\" class=\"dataframe\">\n",
       "  <thead>\n",
       "    <tr style=\"text-align: right;\">\n",
       "      <th></th>\n",
       "      <th>Unnamed: 0_x</th>\n",
       "      <th>airbnb_listing_id</th>\n",
       "      <th>suburb</th>\n",
       "      <th>ad_name</th>\n",
       "      <th>number_of_bedrooms</th>\n",
       "      <th>number_of_bathrooms</th>\n",
       "      <th>star_rating</th>\n",
       "      <th>is_superhost</th>\n",
       "      <th>number_of_reviews</th>\n",
       "      <th>Unnamed: 0.1</th>\n",
       "      <th>Unnamed: 0_y</th>\n",
       "      <th>booked_on</th>\n",
       "      <th>date</th>\n",
       "      <th>price_string</th>\n",
       "      <th>occupied</th>\n",
       "    </tr>\n",
       "  </thead>\n",
       "  <tbody>\n",
       "    <tr>\n",
       "      <th>155275</th>\n",
       "      <td>2063</td>\n",
       "      <td>108658</td>\n",
       "      <td>Canasvieiras</td>\n",
       "      <td>Apartamento aconchegante de frente para o mar</td>\n",
       "      <td>2.0</td>\n",
       "      <td>2.0</td>\n",
       "      <td>NaN</td>\n",
       "      <td>False</td>\n",
       "      <td>0.0</td>\n",
       "      <td>24952</td>\n",
       "      <td>1346773</td>\n",
       "      <td>blank</td>\n",
       "      <td>2021-03-23</td>\n",
       "      <td>300.0</td>\n",
       "      <td>0</td>\n",
       "    </tr>\n",
       "    <tr>\n",
       "      <th>155205</th>\n",
       "      <td>2063</td>\n",
       "      <td>108658</td>\n",
       "      <td>Canasvieiras</td>\n",
       "      <td>Apartamento aconchegante de frente para o mar</td>\n",
       "      <td>2.0</td>\n",
       "      <td>2.0</td>\n",
       "      <td>NaN</td>\n",
       "      <td>False</td>\n",
       "      <td>0.0</td>\n",
       "      <td>24882</td>\n",
       "      <td>1346703</td>\n",
       "      <td>2021-01-15 00:00:00</td>\n",
       "      <td>2021-01-15</td>\n",
       "      <td>400.0</td>\n",
       "      <td>1</td>\n",
       "    </tr>\n",
       "    <tr>\n",
       "      <th>155204</th>\n",
       "      <td>2063</td>\n",
       "      <td>108658</td>\n",
       "      <td>Canasvieiras</td>\n",
       "      <td>Apartamento aconchegante de frente para o mar</td>\n",
       "      <td>2.0</td>\n",
       "      <td>2.0</td>\n",
       "      <td>NaN</td>\n",
       "      <td>False</td>\n",
       "      <td>0.0</td>\n",
       "      <td>24881</td>\n",
       "      <td>1346702</td>\n",
       "      <td>blank</td>\n",
       "      <td>2021-01-14</td>\n",
       "      <td>400.0</td>\n",
       "      <td>0</td>\n",
       "    </tr>\n",
       "    <tr>\n",
       "      <th>155203</th>\n",
       "      <td>2063</td>\n",
       "      <td>108658</td>\n",
       "      <td>Canasvieiras</td>\n",
       "      <td>Apartamento aconchegante de frente para o mar</td>\n",
       "      <td>2.0</td>\n",
       "      <td>2.0</td>\n",
       "      <td>NaN</td>\n",
       "      <td>False</td>\n",
       "      <td>0.0</td>\n",
       "      <td>24880</td>\n",
       "      <td>1346701</td>\n",
       "      <td>blank</td>\n",
       "      <td>2021-01-13</td>\n",
       "      <td>400.0</td>\n",
       "      <td>0</td>\n",
       "    </tr>\n",
       "    <tr>\n",
       "      <th>155202</th>\n",
       "      <td>2063</td>\n",
       "      <td>108658</td>\n",
       "      <td>Canasvieiras</td>\n",
       "      <td>Apartamento aconchegante de frente para o mar</td>\n",
       "      <td>2.0</td>\n",
       "      <td>2.0</td>\n",
       "      <td>NaN</td>\n",
       "      <td>False</td>\n",
       "      <td>0.0</td>\n",
       "      <td>24879</td>\n",
       "      <td>1346700</td>\n",
       "      <td>blank</td>\n",
       "      <td>2021-01-12</td>\n",
       "      <td>400.0</td>\n",
       "      <td>0</td>\n",
       "    </tr>\n",
       "    <tr>\n",
       "      <th>...</th>\n",
       "      <td>...</td>\n",
       "      <td>...</td>\n",
       "      <td>...</td>\n",
       "      <td>...</td>\n",
       "      <td>...</td>\n",
       "      <td>...</td>\n",
       "      <td>...</td>\n",
       "      <td>...</td>\n",
       "      <td>...</td>\n",
       "      <td>...</td>\n",
       "      <td>...</td>\n",
       "      <td>...</td>\n",
       "      <td>...</td>\n",
       "      <td>...</td>\n",
       "      <td>...</td>\n",
       "    </tr>\n",
       "    <tr>\n",
       "      <th>248127</th>\n",
       "      <td>3156</td>\n",
       "      <td>45575044</td>\n",
       "      <td>Lagoa da Conceição</td>\n",
       "      <td>Ilha do Sol  Lagoa</td>\n",
       "      <td>2.0</td>\n",
       "      <td>2.0</td>\n",
       "      <td>5.0</td>\n",
       "      <td>True</td>\n",
       "      <td>14.0</td>\n",
       "      <td>64237</td>\n",
       "      <td>4267813</td>\n",
       "      <td>2020-10-21 00:00:00</td>\n",
       "      <td>2020-12-31</td>\n",
       "      <td>600.0</td>\n",
       "      <td>1</td>\n",
       "    </tr>\n",
       "    <tr>\n",
       "      <th>248126</th>\n",
       "      <td>3156</td>\n",
       "      <td>45575044</td>\n",
       "      <td>Lagoa da Conceição</td>\n",
       "      <td>Ilha do Sol  Lagoa</td>\n",
       "      <td>2.0</td>\n",
       "      <td>2.0</td>\n",
       "      <td>5.0</td>\n",
       "      <td>True</td>\n",
       "      <td>14.0</td>\n",
       "      <td>64236</td>\n",
       "      <td>4267812</td>\n",
       "      <td>2020-10-21 00:00:00</td>\n",
       "      <td>2020-12-30</td>\n",
       "      <td>600.0</td>\n",
       "      <td>1</td>\n",
       "    </tr>\n",
       "    <tr>\n",
       "      <th>248125</th>\n",
       "      <td>3156</td>\n",
       "      <td>45575044</td>\n",
       "      <td>Lagoa da Conceição</td>\n",
       "      <td>Ilha do Sol  Lagoa</td>\n",
       "      <td>2.0</td>\n",
       "      <td>2.0</td>\n",
       "      <td>5.0</td>\n",
       "      <td>True</td>\n",
       "      <td>14.0</td>\n",
       "      <td>64235</td>\n",
       "      <td>4267811</td>\n",
       "      <td>2020-10-21 00:00:00</td>\n",
       "      <td>2020-12-29</td>\n",
       "      <td>600.0</td>\n",
       "      <td>1</td>\n",
       "    </tr>\n",
       "    <tr>\n",
       "      <th>248132</th>\n",
       "      <td>3156</td>\n",
       "      <td>45575044</td>\n",
       "      <td>Lagoa da Conceição</td>\n",
       "      <td>Ilha do Sol  Lagoa</td>\n",
       "      <td>2.0</td>\n",
       "      <td>2.0</td>\n",
       "      <td>5.0</td>\n",
       "      <td>True</td>\n",
       "      <td>14.0</td>\n",
       "      <td>64242</td>\n",
       "      <td>4267818</td>\n",
       "      <td>2020-12-12 00:00:00</td>\n",
       "      <td>2021-01-05</td>\n",
       "      <td>250.0</td>\n",
       "      <td>1</td>\n",
       "    </tr>\n",
       "    <tr>\n",
       "      <th>248136</th>\n",
       "      <td>3156</td>\n",
       "      <td>45575044</td>\n",
       "      <td>Lagoa da Conceição</td>\n",
       "      <td>Ilha do Sol  Lagoa</td>\n",
       "      <td>2.0</td>\n",
       "      <td>2.0</td>\n",
       "      <td>5.0</td>\n",
       "      <td>True</td>\n",
       "      <td>14.0</td>\n",
       "      <td>64246</td>\n",
       "      <td>4267822</td>\n",
       "      <td>2020-11-29 00:00:00</td>\n",
       "      <td>2021-01-09</td>\n",
       "      <td>340.0</td>\n",
       "      <td>1</td>\n",
       "    </tr>\n",
       "  </tbody>\n",
       "</table>\n",
       "<p>354520 rows × 15 columns</p>\n",
       "</div>"
      ],
      "text/plain": [
       "        Unnamed: 0_x  airbnb_listing_id              suburb  \\\n",
       "155275          2063             108658        Canasvieiras   \n",
       "155205          2063             108658        Canasvieiras   \n",
       "155204          2063             108658        Canasvieiras   \n",
       "155203          2063             108658        Canasvieiras   \n",
       "155202          2063             108658        Canasvieiras   \n",
       "...              ...                ...                 ...   \n",
       "248127          3156           45575044  Lagoa da Conceição   \n",
       "248126          3156           45575044  Lagoa da Conceição   \n",
       "248125          3156           45575044  Lagoa da Conceição   \n",
       "248132          3156           45575044  Lagoa da Conceição   \n",
       "248136          3156           45575044  Lagoa da Conceição   \n",
       "\n",
       "                                              ad_name  number_of_bedrooms  \\\n",
       "155275  Apartamento aconchegante de frente para o mar                 2.0   \n",
       "155205  Apartamento aconchegante de frente para o mar                 2.0   \n",
       "155204  Apartamento aconchegante de frente para o mar                 2.0   \n",
       "155203  Apartamento aconchegante de frente para o mar                 2.0   \n",
       "155202  Apartamento aconchegante de frente para o mar                 2.0   \n",
       "...                                               ...                 ...   \n",
       "248127                             Ilha do Sol  Lagoa                 2.0   \n",
       "248126                             Ilha do Sol  Lagoa                 2.0   \n",
       "248125                             Ilha do Sol  Lagoa                 2.0   \n",
       "248132                             Ilha do Sol  Lagoa                 2.0   \n",
       "248136                             Ilha do Sol  Lagoa                 2.0   \n",
       "\n",
       "        number_of_bathrooms  star_rating  is_superhost  number_of_reviews  \\\n",
       "155275                  2.0          NaN         False                0.0   \n",
       "155205                  2.0          NaN         False                0.0   \n",
       "155204                  2.0          NaN         False                0.0   \n",
       "155203                  2.0          NaN         False                0.0   \n",
       "155202                  2.0          NaN         False                0.0   \n",
       "...                     ...          ...           ...                ...   \n",
       "248127                  2.0          5.0          True               14.0   \n",
       "248126                  2.0          5.0          True               14.0   \n",
       "248125                  2.0          5.0          True               14.0   \n",
       "248132                  2.0          5.0          True               14.0   \n",
       "248136                  2.0          5.0          True               14.0   \n",
       "\n",
       "        Unnamed: 0.1  Unnamed: 0_y            booked_on        date  \\\n",
       "155275         24952       1346773                blank  2021-03-23   \n",
       "155205         24882       1346703  2021-01-15 00:00:00  2021-01-15   \n",
       "155204         24881       1346702                blank  2021-01-14   \n",
       "155203         24880       1346701                blank  2021-01-13   \n",
       "155202         24879       1346700                blank  2021-01-12   \n",
       "...              ...           ...                  ...         ...   \n",
       "248127         64237       4267813  2020-10-21 00:00:00  2020-12-31   \n",
       "248126         64236       4267812  2020-10-21 00:00:00  2020-12-30   \n",
       "248125         64235       4267811  2020-10-21 00:00:00  2020-12-29   \n",
       "248132         64242       4267818  2020-12-12 00:00:00  2021-01-05   \n",
       "248136         64246       4267822  2020-11-29 00:00:00  2021-01-09   \n",
       "\n",
       "        price_string  occupied  \n",
       "155275         300.0         0  \n",
       "155205         400.0         1  \n",
       "155204         400.0         0  \n",
       "155203         400.0         0  \n",
       "155202         400.0         0  \n",
       "...              ...       ...  \n",
       "248127         600.0         1  \n",
       "248126         600.0         1  \n",
       "248125         600.0         1  \n",
       "248132         250.0         1  \n",
       "248136         340.0         1  \n",
       "\n",
       "[354520 rows x 15 columns]"
      ]
     },
     "execution_count": 7,
     "metadata": {},
     "output_type": "execute_result"
    }
   ],
   "source": [
    "# Nesse caso, deve ser usado o comando sort para ordenar do menor valor para o maior:\n",
    "\n",
    "df.sort_values(by='airbnb_listing_id', inplace=True)\n",
    "\n",
    "df"
   ]
  },
  {
   "cell_type": "markdown",
   "id": "fe04c3f4",
   "metadata": {},
   "source": [
    "# Query 2 - Ordene os bairros em ordem crescente de faturamento médio dos listings"
   ]
  },
  {
   "cell_type": "code",
   "execution_count": 8,
   "id": "5fa0756b",
   "metadata": {},
   "outputs": [],
   "source": [
    "# Os valores dos imóveis estão no formato string e precisam ser alterados, então:\n",
    "\n",
    "df['price_string'] = pd.to_numeric(df['price_string'])"
   ]
  },
  {
   "cell_type": "code",
   "execution_count": 9,
   "id": "deff6825",
   "metadata": {},
   "outputs": [],
   "source": [
    "# Deve-se então, calcular o faturamento médio para cada listing:\n",
    "\n",
    "media = df.groupby(df['airbnb_listing_id'])\n",
    "media = media['price_string'].mean()\n",
    "media = media.sort_values()"
   ]
  },
  {
   "cell_type": "code",
   "execution_count": 10,
   "id": "ba3940b9",
   "metadata": {},
   "outputs": [
    {
     "data": {
      "text/html": [
       "<div>\n",
       "<style scoped>\n",
       "    .dataframe tbody tr th:only-of-type {\n",
       "        vertical-align: middle;\n",
       "    }\n",
       "\n",
       "    .dataframe tbody tr th {\n",
       "        vertical-align: top;\n",
       "    }\n",
       "\n",
       "    .dataframe thead th {\n",
       "        text-align: right;\n",
       "    }\n",
       "</style>\n",
       "<table border=\"1\" class=\"dataframe\">\n",
       "  <thead>\n",
       "    <tr style=\"text-align: right;\">\n",
       "      <th></th>\n",
       "      <th>price_string</th>\n",
       "    </tr>\n",
       "    <tr>\n",
       "      <th>airbnb_listing_id</th>\n",
       "      <th></th>\n",
       "    </tr>\n",
       "  </thead>\n",
       "  <tbody>\n",
       "    <tr>\n",
       "      <th>42269547</th>\n",
       "      <td>54.000000</td>\n",
       "    </tr>\n",
       "    <tr>\n",
       "      <th>42298268</th>\n",
       "      <td>56.900000</td>\n",
       "    </tr>\n",
       "    <tr>\n",
       "      <th>42382598</th>\n",
       "      <td>59.835526</td>\n",
       "    </tr>\n",
       "    <tr>\n",
       "      <th>29681368</th>\n",
       "      <td>59.919355</td>\n",
       "    </tr>\n",
       "    <tr>\n",
       "      <th>28729150</th>\n",
       "      <td>60.000000</td>\n",
       "    </tr>\n",
       "    <tr>\n",
       "      <th>...</th>\n",
       "      <td>...</td>\n",
       "    </tr>\n",
       "    <tr>\n",
       "      <th>3993448</th>\n",
       "      <td>1500.000000</td>\n",
       "    </tr>\n",
       "    <tr>\n",
       "      <th>13397659</th>\n",
       "      <td>1650.000000</td>\n",
       "    </tr>\n",
       "    <tr>\n",
       "      <th>29680715</th>\n",
       "      <td>1960.000000</td>\n",
       "    </tr>\n",
       "    <tr>\n",
       "      <th>31373382</th>\n",
       "      <td>2000.000000</td>\n",
       "    </tr>\n",
       "    <tr>\n",
       "      <th>7642148</th>\n",
       "      <td>5500.000000</td>\n",
       "    </tr>\n",
       "  </tbody>\n",
       "</table>\n",
       "<p>3347 rows × 1 columns</p>\n",
       "</div>"
      ],
      "text/plain": [
       "                   price_string\n",
       "airbnb_listing_id              \n",
       "42269547              54.000000\n",
       "42298268              56.900000\n",
       "42382598              59.835526\n",
       "29681368              59.919355\n",
       "28729150              60.000000\n",
       "...                         ...\n",
       "3993448             1500.000000\n",
       "13397659            1650.000000\n",
       "29680715            1960.000000\n",
       "31373382            2000.000000\n",
       "7642148             5500.000000\n",
       "\n",
       "[3347 rows x 1 columns]"
      ]
     },
     "execution_count": 10,
     "metadata": {},
     "output_type": "execute_result"
    }
   ],
   "source": [
    "# Agora é possível organizar os valores de acordo com a média de faturamento:\n",
    "\n",
    "pd.DataFrame(media.sort_values())"
   ]
  },
  {
   "cell_type": "markdown",
   "id": "d1e2c8f5",
   "metadata": {},
   "source": [
    "# Query 3 - Existem correlações entre as características de um anúncio e seu faturamento?"
   ]
  },
  {
   "cell_type": "code",
   "execution_count": 12,
   "id": "26ff23e8",
   "metadata": {},
   "outputs": [],
   "source": [
    "# Gráfico 1:\n",
    "\n",
    "# Para obter alguns dados de comparação, separei 3 faixas de aluguel:\n",
    "\n",
    "valor1 = media.loc[media < 200]\n",
    "valor2 = media.loc[media == 600]\n",
    "valor3 = media.loc[media > 1200]"
   ]
  },
  {
   "cell_type": "code",
   "execution_count": 13,
   "id": "36e8ddde",
   "metadata": {},
   "outputs": [],
   "source": [
    "# A partir da lista gerada pela média de lucro de cada listing, filtrei a tabela geral para obter os valores\n",
    "# correspondentes pelo airbnb_listing_id\n",
    "\n",
    "df1, df2, df3 = [], [], []\n",
    "\n",
    "for i in range(len(valor1)):\n",
    "    df1.append(df.loc[df['airbnb_listing_id'] == valor1.index[i]])\n",
    "    df_valor1 = pd.concat(df1)\n",
    "\n",
    "for i in range(len(valor2)):\n",
    "    df2.append(df.loc[df['airbnb_listing_id'] == valor2.index[i]])\n",
    "    df_valor2 = pd.concat(df2)\n",
    "\n",
    "for i in range(len(valor3)):\n",
    "    df3.append(df.loc[df['airbnb_listing_id'] == valor3.index[i]])\n",
    "    df_valor3 = pd.concat(df3)"
   ]
  },
  {
   "cell_type": "code",
   "execution_count": 14,
   "id": "2889f6e4",
   "metadata": {},
   "outputs": [],
   "source": [
    "# Para fins de demonstração, fiz a média de quartos e banheiros por cada faixa de aluguel:\n",
    "\n",
    "media_quartos = [df_valor1['number_of_bedrooms'].mean(), df_valor2['number_of_bedrooms'].mean(),\n",
    "                 df_valor3['number_of_bedrooms'].mean()]\n",
    "\n",
    "media_banheiros = [df_valor1['number_of_bathrooms'].mean(), df_valor2['number_of_bathrooms'].mean(),\n",
    "                   df_valor3['number_of_bathrooms'].mean()]"
   ]
  },
  {
   "cell_type": "code",
   "execution_count": 31,
   "id": "86b0d506",
   "metadata": {},
   "outputs": [
    {
     "data": {
      "image/png": "[encoded data removed]",
      "text/plain": [
       "<Figure size 1800x720 with 2 Axes>"
      ]
     },
     "metadata": {
      "needs_background": "light"
     },
     "output_type": "display_data"
    }
   ],
   "source": [
    "# Plotando o Gráfico 1:\n",
    "\n",
    "x = ['< R$ 200,00', 'R$ 600,00', '> R$1200,00']\n",
    "\n",
    "\n",
    "fig, axs = plt.subplots(1, 2, figsize=(25, 10))\n",
    "plt.rcParams.update({'font.size': 18})\n",
    "fig.suptitle('Quantidade de Cômodos x Lucro')\n",
    "axs[0].set(xlabel='Faturamento Médio', ylabel='Média de Quartos')\n",
    "axs[0].bar(x, media_quartos, color='slateblue')\n",
    "axs[1].set(xlabel='Faturamento Médio', ylabel='Média de Banheiros')\n",
    "axs[1].bar(x, media_banheiros, color='limegreen')\n",
    "plt.show()"
   ]
  },
  {
   "cell_type": "code",
   "execution_count": null,
   "id": "caa846b0",
   "metadata": {},
   "outputs": [],
   "source": [
    "\"\"\"\n",
    "É possível observar maior faturamento de listing de acordo com o número de cômodos, ou seja, quanto maior o imóvel locado,\n",
    "maior o faturamento.\n",
    "\"\"\""
   ]
  },
  {
   "cell_type": "code",
   "execution_count": 17,
   "id": "12bde129",
   "metadata": {},
   "outputs": [],
   "source": [
    "# Gráfico 2:\n",
    "\n",
    "# Separei a tabela de acordo com cada valor de star_rating:\n",
    "\n",
    "star_null = df.loc[df['star_rating'] == 0]\n",
    "star_3 = df.loc[df['star_rating'] == 3]\n",
    "star_35 = df.loc[df['star_rating'] == 3.5]\n",
    "star_4 = df.loc[df['star_rating'] == 4]\n",
    "star_45 = df.loc[df['star_rating'] == 4.5]\n",
    "star_5 = df.loc[df['star_rating'] == 5]"
   ]
  },
  {
   "cell_type": "code",
   "execution_count": 18,
   "id": "1b1d212a",
   "metadata": {},
   "outputs": [],
   "source": [
    "# Foi feita, então, a média do valor de cada star_rating:\n",
    "\n",
    "media = [star_null['price_string'].mean(), star_3['price_string'].mean(), star_35['price_string'].mean(),\n",
    "         star_4['price_string'].mean(), star_45['price_string'].mean(), star_5['price_string'].mean()]"
   ]
  },
  {
   "cell_type": "code",
   "execution_count": 37,
   "id": "e0b09850",
   "metadata": {
    "scrolled": false
   },
   "outputs": [
    {
     "data": {
      "image/png": "[encoded data removed]",
      "text/plain": [
       "<Figure size 1800x720 with 1 Axes>"
      ]
     },
     "metadata": {
      "needs_background": "light"
     },
     "output_type": "display_data"
    }
   ],
   "source": [
    "# Plotando o Gráfico 2:\n",
    "\n",
    "x = ['0', '3', '3,5', '4', '4,5', '5']\n",
    "\n",
    "plt.rcParams.update({'font.size': 20})\n",
    "plt.title('Lucro x Número de estrelas')\n",
    "plt.xlabel('Número de Estrelas')\n",
    "plt.ylabel('Média de lucros')\n",
    "plt.bar(x, media, color='deepskyblue')\n",
    "plt.show()"
   ]
  },
  {
   "cell_type": "code",
   "execution_count": null,
   "id": "88cae9bf",
   "metadata": {},
   "outputs": [],
   "source": [
    "\"\"\"\n",
    "Entretanto, pôde-se observar que não há boa correlação entre\n",
    "classificação do imóvel e média do lucro obtido dos listings.\n",
    "\"\"\""
   ]
  },
  {
   "cell_type": "markdown",
   "id": "44b34e22",
   "metadata": {},
   "source": [
    "# Query 4 - Qual a antecedência média das reservas?"
   ]
  },
  {
   "cell_type": "code",
   "execution_count": 20,
   "id": "055cc292",
   "metadata": {},
   "outputs": [],
   "source": [
    "# Para iniciar, foram filtradas as linhas que foram feitas reservas:\n",
    "\n",
    "reservas = df.loc[df['booked_on'] != 'blank']"
   ]
  },
  {
   "cell_type": "code",
   "execution_count": 21,
   "id": "85a9d12b",
   "metadata": {},
   "outputs": [],
   "source": [
    "# Depois é necessário transformar as datas em um formato compreensível para a leitura:\n",
    "\n",
    "booked = pd.to_datetime(reservas['booked_on'], format='%Y-%m-%d %H:%M:%S')\n",
    "date = pd.to_datetime(reservas['date'], format='%Y-%m-%d')"
   ]
  },
  {
   "cell_type": "code",
   "execution_count": 22,
   "id": "df8079f9",
   "metadata": {},
   "outputs": [
    {
     "name": "stdout",
     "output_type": "stream",
     "text": [
      "Antecedência média: 32 days 08:26:27.787888524\n"
     ]
    }
   ],
   "source": [
    "# Calculando a diferença de dias:\n",
    "\n",
    "delta = date - booked\n",
    "\n",
    "# Sendo a antecedência média de dias:\n",
    "\n",
    "print(f'Antecedência média: {delta.mean()}')"
   ]
  },
  {
   "cell_type": "markdown",
   "id": "b15844bf",
   "metadata": {},
   "source": [
    "# a. Esse número é maior ou menor para finais de semana?"
   ]
  },
  {
   "cell_type": "code",
   "execution_count": 23,
   "id": "b4c50718",
   "metadata": {},
   "outputs": [],
   "source": [
    "# Transformando as datas em dias de semana:\n",
    "\n",
    "dias_semana = date.dt.weekday"
   ]
  },
  {
   "cell_type": "code",
   "execution_count": 24,
   "id": "fbb18c09",
   "metadata": {},
   "outputs": [],
   "source": [
    "# Para calcular a frequência de reservas para cada dia:\n",
    "\n",
    "freq_semana = dias_semana.value_counts().rename_axis('Week_day')\n",
    "freq_semana = pd.DataFrame(freq_semana).sort_values(by=['Week_day'])"
   ]
  },
  {
   "cell_type": "code",
   "execution_count": 35,
   "id": "44869b73",
   "metadata": {},
   "outputs": [
    {
     "data": {
      "image/png": "[encoded data removed]",
      "text/plain": [
       "<Figure size 1800x720 with 1 Axes>"
      ]
     },
     "metadata": {
      "needs_background": "light"
     },
     "output_type": "display_data"
    }
   ],
   "source": [
    "# Para poder obter uma melhor visualização das frequências de cada dia, gerei um gráfico de dias da semana X frequência:\n",
    "\n",
    "dias = ['Segunda', 'Terça', 'Quarta', 'Quinta', 'Sexta', 'Sábado', 'Domingo']\n",
    "\n",
    "plt.title('Dias da Semana x Frequência')\n",
    "plt.xlabel('Dias da Semana')\n",
    "plt.ylabel('Frequência')\n",
    "plt.plot(dias, freq_semana['date'], marker='o')\n",
    "plt.grid()\n",
    "plt.show()"
   ]
  },
  {
   "cell_type": "code",
   "execution_count": null,
   "id": "b717972f",
   "metadata": {},
   "outputs": [],
   "source": [
    "\"\"\"\n",
    "Através do Gráfico é possível dizer que as reservas são maiores para os sábados. As reservas no domingo se aproximam\n",
    "das reservas na sexta-feira. Ao longo da semana os resultados são consideravelmente menores comparados ao fim de semana.\n",
    "\"\"\""
   ]
  }
 ],
 "metadata": {
  "kernelspec": {
   "display_name": "Python 3 (ipykernel)",
   "language": "python",
   "name": "python3"
  },
  "language_info": {
   "codemirror_mode": {
    "name": "ipython",
    "version": 3
   },
   "file_extension": ".py",
   "mimetype": "text/x-python",
   "name": "python",
   "nbconvert_exporter": "python",
   "pygments_lexer": "ipython3",
   "version": "3.10.1"
  }
 },
 "nbformat": 4,
 "nbformat_minor": 5
}
